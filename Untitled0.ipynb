{
  "nbformat": 4,
  "nbformat_minor": 0,
  "metadata": {
    "colab": {
      "provenance": [],
      "authorship_tag": "ABX9TyPcv90w+x7xeNx8dP8pjVag",
      "include_colab_link": true
    },
    "kernelspec": {
      "name": "python3",
      "display_name": "Python 3"
    },
    "language_info": {
      "name": "python"
    }
  },
  "cells": [
    {
      "cell_type": "markdown",
      "metadata": {
        "id": "view-in-github",
        "colab_type": "text"
      },
      "source": [
        "<a href=\"https://colab.research.google.com/github/beatlesatani/OCR_project/blob/main/Untitled0.ipynb\" target=\"_parent\"><img src=\"https://colab.research.google.com/assets/colab-badge.svg\" alt=\"Open In Colab\"/></a>"
      ]
    },
    {
      "cell_type": "code",
      "source": [
        "# import the necessary packages\n",
        "from tensorflow.keras.models import load_model\n",
        "from imutils.contours import sort_contours\n",
        "import numpy as np\n",
        "import argparse\n",
        "import imutils\n",
        "import cv2\n",
        "from PIL import Image\n",
        "'''\n",
        "# construct the argument parser and parse the arguments\n",
        "ap = argparse.ArgumentParser()\n",
        "ap.add_argument(\"-i\", \"--image\", required=True,\n",
        "\thelp=\"path to input image\")\n",
        "ap.add_argument(\"-m\", \"--model\", type=str, required=True,\n",
        "\thelp=\"path to trained handwriting recognition model\")\n",
        "args = vars(ap.parse_args())\n",
        "'''"
      ],
      "metadata": {
        "id": "T-3EfNAluwR2",
        "outputId": "ef332dfa-6e03-4fb4-a658-ab43271dfa4d",
        "colab": {
          "base_uri": "https://localhost:8080/",
          "height": 70
        }
      },
      "execution_count": 17,
      "outputs": [
        {
          "output_type": "execute_result",
          "data": {
            "text/plain": [
              "'\\n# construct the argument parser and parse the arguments\\nap = argparse.ArgumentParser()\\nap.add_argument(\"-i\", \"--image\", required=True,\\n\\thelp=\"path to input image\")\\nap.add_argument(\"-m\", \"--model\", type=str, required=True,\\n\\thelp=\"path to trained handwriting recognition model\")\\nargs = vars(ap.parse_args())\\n'"
            ],
            "application/vnd.google.colaboratory.intrinsic+json": {
              "type": "string"
            }
          },
          "metadata": {},
          "execution_count": 17
        }
      ]
    },
    {
      "cell_type": "code",
      "source": [
        "from google.colab import drive\n",
        "drive.mount('/content/gdrive')"
      ],
      "metadata": {
        "id": "N_X1-CfivHmr",
        "outputId": "2f072c14-e2fc-474f-f30d-0affbc997fdb",
        "colab": {
          "base_uri": "https://localhost:8080/"
        }
      },
      "execution_count": 15,
      "outputs": [
        {
          "output_type": "stream",
          "name": "stdout",
          "text": [
            "Drive already mounted at /content/gdrive; to attempt to forcibly remount, call drive.mount(\"/content/gdrive\", force_remount=True).\n"
          ]
        }
      ]
    },
    {
      "cell_type": "code",
      "source": [
        "## need to move the file to local"
      ],
      "metadata": {
        "id": "xuoIjaMxwZze"
      },
      "execution_count": 14,
      "outputs": []
    },
    {
      "cell_type": "code",
      "source": [
        "model = load_model(\"/content/gdrive/MyDrive/hiragana_recognition_cnn.h5\")"
      ],
      "metadata": {
        "id": "I-I5KxULu76h"
      },
      "execution_count": 13,
      "outputs": []
    },
    {
      "cell_type": "code",
      "source": [],
      "metadata": {
        "id": "fihb9ji47R27"
      },
      "execution_count": null,
      "outputs": []
    },
    {
      "cell_type": "code",
      "source": [],
      "metadata": {
        "id": "MPxManiW7R5Z"
      },
      "execution_count": null,
      "outputs": []
    },
    {
      "cell_type": "code",
      "source": [],
      "metadata": {
        "id": "MnAMWMgE7R7s"
      },
      "execution_count": null,
      "outputs": []
    },
    {
      "cell_type": "code",
      "source": [
        "#prepprocess the pictures in the folder"
      ],
      "metadata": {
        "id": "M9nigHM87R9x"
      },
      "execution_count": null,
      "outputs": []
    },
    {
      "cell_type": "code",
      "source": [],
      "metadata": {
        "id": "mqoWTt_T7W7b"
      },
      "execution_count": null,
      "outputs": []
    },
    {
      "cell_type": "code",
      "source": [],
      "metadata": {
        "id": "731kfSMx7W-L"
      },
      "execution_count": null,
      "outputs": []
    },
    {
      "cell_type": "code",
      "source": [],
      "metadata": {
        "id": "uh6hA0MR7XLW"
      },
      "execution_count": null,
      "outputs": []
    },
    {
      "cell_type": "code",
      "source": [],
      "metadata": {
        "id": "9C74FeAC7XO2"
      },
      "execution_count": null,
      "outputs": []
    },
    {
      "cell_type": "code",
      "source": [],
      "metadata": {
        "id": "NoWmdYr17XRk"
      },
      "execution_count": null,
      "outputs": []
    },
    {
      "cell_type": "code",
      "source": [
        "out_dir = \"/content/gdrive/MyDrive/hiraganas\"\n",
        "result = []\n",
        "\n",
        "# List all image files in the directory\n",
        "image_files = glob.glob(os.path.join(out_dir, '*.png'))\n",
        "\n",
        "# Loop through the image files\n",
        "for i, image_file in enumerate(image_files):\n",
        "    # Load the image using OpenCV\n",
        "    img = cv2.imread(image_file)\n",
        "\n",
        "    # Convert the image to grayscale and resize it to 32x32\n",
        "    img_gray = cv2.cvtColor(img, cv2.COLOR_BGR2GRAY)\n",
        "    img_resized = cv2.resize(img_gray, (32, 32))\n",
        "\n",
        "    # Append the label (i) and the processed image to the result list\n",
        "    result.append([i, img_resized])\n",
        "\n",
        "    # Display the first 5 images\n",
        "    if i < 5:\n",
        "        plt.subplot(1, 5, i + 1)\n",
        "        plt.axis(\"off\")\n",
        "        plt.title(str(i))\n",
        "        plt.imshow(img_resized, cmap='gray')\n",
        "\n",
        "# Show the plotted images\n",
        "plt.show()\n",
        "\n"
      ],
      "metadata": {
        "id": "-5mQr5nOwuUI",
        "outputId": "2e031ada-23a0-4746-a785-1d2ad097cefd",
        "colab": {
          "base_uri": "https://localhost:8080/",
          "height": 144
        }
      },
      "execution_count": 50,
      "outputs": [
        {
          "output_type": "display_data",
          "data": {
            "text/plain": [
              "<Figure size 640x480 with 5 Axes>"
            ],
            "image/png": "[encoded data removed]"
          },
          "metadata": {}
        }
      ]
    },
    {
      "cell_type": "code",
      "source": [
        "for item in result:\n",
        "    index, image = item\n",
        "    shape = image.shape\n",
        "    print(f\"Index {index}: Shape {shape}, Dimensions: {image.ndim}\")"
      ],
      "metadata": {
        "id": "csbdCFAF-upw",
        "outputId": "814eb494-f16d-466a-b60a-e8015bcee101",
        "colab": {
          "base_uri": "https://localhost:8080/"
        }
      },
      "execution_count": 61,
      "outputs": [
        {
          "output_type": "stream",
          "name": "stdout",
          "text": [
            "Index 0: Shape (32, 32), Dimensions: 2\n",
            "Index 1: Shape (32, 32), Dimensions: 2\n",
            "Index 2: Shape (32, 32), Dimensions: 2\n",
            "Index 3: Shape (32, 32), Dimensions: 2\n",
            "Index 4: Shape (32, 32), Dimensions: 2\n",
            "Index 5: Shape (32, 32), Dimensions: 2\n",
            "Index 6: Shape (32, 32), Dimensions: 2\n",
            "Index 7: Shape (32, 32), Dimensions: 2\n",
            "Index 8: Shape (32, 32), Dimensions: 2\n",
            "Index 9: Shape (32, 32), Dimensions: 2\n",
            "Index 10: Shape (32, 32), Dimensions: 2\n",
            "Index 11: Shape (32, 32), Dimensions: 2\n",
            "Index 12: Shape (32, 32), Dimensions: 2\n"
          ]
        }
      ]
    },
    {
      "cell_type": "code",
      "source": [
        "add one vector (color scale?? 0 to 255)"
      ],
      "metadata": {
        "id": "YVX0NQY-_hlA"
      },
      "execution_count": null,
      "outputs": []
    },
    {
      "cell_type": "code",
      "source": [
        "for d in data:\n",
        "  (num, img) = d\n",
        "  img = img.astype('float').reshape(im_size, im_size, im_color) / 255\n",
        "  y.append(keras.utils.np_utils.to_categorical(num, out_size))\n",
        "  x.append(img)"
      ],
      "metadata": {
        "id": "I-BDz2dS-usQ"
      },
      "execution_count": null,
      "outputs": []
    },
    {
      "cell_type": "code",
      "source": [
        "####export some pictures from VM\n",
        "#and make it work and predict.\n",
        "##複数ので読み取れるようにする"
      ],
      "metadata": {
        "id": "LKqxzws0wuWz"
      },
      "execution_count": 29,
      "outputs": []
    },
    {
      "cell_type": "code",
      "source": [],
      "metadata": {
        "id": "7feGbuYCwuZR"
      },
      "execution_count": null,
      "outputs": []
    },
    {
      "cell_type": "code",
      "source": [],
      "metadata": {
        "id": "p4gMObJ7wubx"
      },
      "execution_count": null,
      "outputs": []
    },
    {
      "cell_type": "code",
      "source": [],
      "metadata": {
        "id": "rIVWpdynwujT"
      },
      "execution_count": null,
      "outputs": []
    },
    {
      "cell_type": "code",
      "source": [
        "model.predict()"
      ],
      "metadata": {
        "id": "KGb0Q6xtvxUT"
      },
      "execution_count": null,
      "outputs": []
    }
  ]
}