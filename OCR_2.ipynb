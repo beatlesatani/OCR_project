{
  "nbformat": 4,
  "nbformat_minor": 0,
  "metadata": {
    "colab": {
      "provenance": [],
      "include_colab_link": true
    },
    "kernelspec": {
      "name": "python3",
      "display_name": "Python 3"
    }
  },
  "cells": [
    {
      "cell_type": "markdown",
      "metadata": {
        "id": "view-in-github",
        "colab_type": "text"
      },
      "source": [
        "<a href=\"https://colab.research.google.com/github/beatlesatani/OCR_project/blob/main/OCR_2.ipynb\" target=\"_parent\"><img src=\"https://colab.research.google.com/assets/colab-badge.svg\" alt=\"Open In Colab\"/></a>"
      ]
    },
    {
      "cell_type": "code",
      "metadata": {
        "colab": {
          "base_uri": "https://localhost:8080/",
          "height": 940
        },
        "id": "UwUR9onHp6BL",
        "outputId": "579bbe02-908a-49d0-ff0f-2f170c2a9f9f"
      },
      "source": [
        "\n",
        "#### 1.import ####\n",
        "\n",
        "import os\n",
        "import cv2\n",
        "import numpy as np\n",
        "from imutils import contours\n",
        "import matplotlib.pyplot as plt\n",
        "import glob\n",
        "from natsort import natsorted\n",
        "from google.colab import drive\n",
        "drive.mount('/content/gdrive')\n",
        "\n",
        "#### ２．set up pictures ####\n",
        "input_file = \"/content/gdrive/MyDrive/pictures/tsukau.png\"\n",
        "\n",
        "\n",
        "\n",
        "\n",
        "# 膨張処理の設定\n",
        "#【横書き】大まかな文字領域の検出（ブロック検出）のための膨張処理（カーネルサイズ・膨張処理回数）の設定\n",
        "block_kernel_hight = 5  # カーネルの縦の高さ\n",
        "block_kernel_width = 5  # カーネルの横の幅\n",
        "block_iterations = 4    # 膨張処理回数\n",
        "\n",
        "# 輪郭のカット設定\n",
        "# ブロック検出：文字領域検出した輪郭の「横幅」が、以下の範囲なら輪郭を残す\n",
        "block_horizontal_height_minimum = 5  # 最小値（ピクセル）\n",
        "block_horizontal_height_max = 1000   # 最大値（ピクセル）\n",
        "\n",
        "# ブロック検出：文字領域検出した輪郭の「縦の高さ」が、以下の範囲なら輪郭を残す\n",
        "block_vertical_height_minimum = 5  # 最小値（ピクセル）\n",
        "block_vertical_height_max = 1000   # 最大値（ピクセル）\n",
        "\n",
        "\n",
        "\n",
        "####  ４．大まかな文字領域の検出（ブロック検出） ####\n",
        "# 画像から、ブロック検出をおこないます\n",
        "# 「block_ROI_img〜.png」（ブロック検出画像）を作成します\n",
        "# 「block_text-detection.png」（ブロック検出の結果を、元の画像に描画した画像）を作成します\n",
        "\n",
        "\n",
        "# Process for detecting and extracting character regions from images\n",
        "def block_contours (OCR_input_file):\n",
        "  img = cv2.imread(OCR_input_file)\n",
        "  width = 450\n",
        "  height = 350\n",
        "  img = cv2.resize(img, (width, height))\n",
        "\n",
        "  # convert image to monochrome gray picture\n",
        "  img_gray = cv2.cvtColor(img, cv2.COLOR_BGR2GRAY)\n",
        "\n",
        "  # convert to monochrome image\n",
        "  retval, img_binary = cv2.threshold(img_gray, 0, 255, cv2.THRESH_BINARY_INV + cv2.THRESH_OTSU)\n",
        "\n",
        "  # 白部分の膨張処理（Dilation）：モルフォロジー変換 - 2値画像を対象\n",
        "  kernel = np.ones((block_kernel_hight, block_kernel_width),np.uint8) # カーネル（構造的要素）：全要素の値が1の縦横が任意のピクセルのカーネル\n",
        "  img_dilation = cv2.dilate(img_binary,kernel,iterations = block_iterations)\n",
        "\n",
        "  print('\\n【Binarization】')\n",
        "\n",
        "  # 膨張処理後の2値化画像の表示\n",
        "  plt.imshow(cv2.cvtColor(img_dilation, cv2.COLOR_BGR2RGB))\n",
        "  plt.show()\n",
        "\n",
        "\n",
        "  # detect contour\n",
        "  #cnts: coordinates of contour,  hierarchy: how to detect contour\n",
        "  #cv2.RETR_EXTERNAL：return the most external contour.\n",
        "  #cv2.CHAIN_APPROX_SIMPLE : do not contain all pointns on the contour to reduce data size.leaves only their end points.\n",
        "\n",
        "  cnts, hierarchy = cv2.findContours(img_dilation, cv2.RETR_EXTERNAL, cv2.CHAIN_APPROX_SIMPLE)\n",
        "  cnts, hierarchy = contours.sort_contours(cnts, method='left-to-right')\n",
        "\n",
        "\n",
        "  # first setting of ROI\n",
        "  block_ROI_index = 0\n",
        "\n",
        "  # convert contour coordinates to the list\n",
        "  result = []\n",
        "  for contour in cnts:\n",
        "    x, y, w, h = cv2.boundingRect(contour)\n",
        "    # remove too large area / too small area\n",
        "    if not block_vertical_height_minimum < w < block_vertical_height_max:\n",
        "      continue\n",
        "    if not block_horizontal_height_minimum < h < block_horizontal_height_max:\n",
        "      continue\n",
        "\n",
        "    x_fix = x-15\n",
        "    y_fix = y-18\n",
        "    w_fix = w+40\n",
        "    h_fix = h+40\n",
        "\n",
        "    # extract  (capture rectangle and each image is in the rectangle)\n",
        "    block_ROI = img[y_fix:y_fix+h_fix, x_fix:x_fix+w_fix]\n",
        "    cv2.imwrite('block_ROI_img{}.png'.format(block_ROI_index), block_ROI)\n",
        "    block_ROI_index += 1\n",
        "\n",
        "    #result.append([x, y, w, h])\n",
        "    result.append([x_fix,y_fix,w_fix,h_fix])\n",
        "\n",
        "\n",
        "  # 画面に矩形の輪郭を描画 （描画機能）\n",
        "  for x, y, w, h in result:\n",
        "      cv2.rectangle(img, (x, y), (x+w, y+h), (100, 255, 100), 3)\n",
        "\n",
        "\n",
        "  # 解説用のコメント（文字領域の輪郭検出・抽出）\n",
        "  print('\\n【Text detection・Contours】')\n",
        "\n",
        "  # 文字領域の輪郭検出・抽出結果の表示\n",
        "  plt.imshow(cv2.cvtColor(img, cv2.COLOR_BGR2RGB))\n",
        "  plt.savefig('block_text-detection.png', dpi=300)\n",
        "  plt.show()\n",
        "\n",
        "\n",
        "\n",
        "## 大まかな文字領域の検出（ブロック検出）の関数（block_contours）の実行\n",
        "block_contours (input_file)\n",
        "\n"
      ],
      "execution_count": 12,
      "outputs": [
        {
          "output_type": "stream",
          "name": "stdout",
          "text": [
            "Drive already mounted at /content/gdrive; to attempt to forcibly remount, call drive.mount(\"/content/gdrive\", force_remount=True).\n",
            "\n",
            "【Binarization】\n"
          ]
        },
        {
          "output_type": "display_data",
          "data": {
            "text/plain": [
              "<Figure size 640x480 with 1 Axes>"
            ],
            "image/png": "[encoded data removed]"
          },
          "metadata": {}
        },
        {
          "output_type": "stream",
          "name": "stdout",
          "text": [
            "\n",
            "【Text detection・Contours】\n"
          ]
        },
        {
          "output_type": "display_data",
          "data": {
            "text/plain": [
              "<Figure size 640x480 with 1 Axes>"
            ],
            "image/png": "[encoded data removed]"
          },
          "metadata": {}
        }
      ]
    },
    {
      "cell_type": "code",
      "source": [],
      "metadata": {
        "id": "eMPrW7FeVUW0"
      },
      "execution_count": null,
      "outputs": []
    },
    {
      "cell_type": "markdown",
      "source": [
        "# New Section"
      ],
      "metadata": {
        "id": "3jaAEQqF80kc"
      }
    },
    {
      "cell_type": "code",
      "source": [
        "import tensorflow as tf\n",
        "from tensorflow.keras.models import load_model\n",
        "\n",
        "# Specify the path to the SavedModel directory\n",
        "saved_model_path = \"/content/gdrive/MyDrive/hiragana_recognition_cnn.tf\"\n",
        "\n",
        "# Load the model\n",
        "model = tf.keras.models.load_model(saved_model_path)\n",
        "\n",
        "# Now, you can use the loaded model for inference or further training\n",
        "\n",
        "image_width = 32\n",
        "image_height = 32"
      ],
      "metadata": {
        "id": "MJuY5sDHwp4m"
      },
      "execution_count": 13,
      "outputs": []
    },
    {
      "cell_type": "code",
      "source": [
        "#### ８．画像判定のためのプログラム ####\n",
        "folder = ['あ','い','う','え','お',\n",
        "              'か','き','く','け','こ',\n",
        "              'さ','し','す','せ','そ',\n",
        "              'た','ち','つ','て','と',\n",
        "              'な','に','ぬ','ね','の',\n",
        "              'は','ひ','ふ','へ','ほ',\n",
        "              'ま','み','む','め','も',\n",
        "              'や','ゆ','よ',\n",
        "              'ら','り','る','れ','ろ',\n",
        "              'わ','ん','を']\n",
        "\n",
        "\n",
        "import cv2\n",
        "import matplotlib.pyplot as plt\n",
        "\n",
        "def invert_monochrome_colors(image):\n",
        "    if image is not None:\n",
        "        inverted_image = 255 - image\n",
        "        return inverted_image\n",
        "    else:\n",
        "        print(\"Failed to load the image.\")\n",
        "        return None\n",
        "\n",
        "# List to store the processed images\n",
        "result = []\n",
        "\n",
        "file_list = glob.glob(\"block_ROI_img*.png\")\n",
        "image_files = sorted(file_list)\n",
        "\n",
        "# Loop through the image files\n",
        "for i, image_file in enumerate(image_files):\n",
        "    # Load the image using OpenCV\n",
        "    img = cv2.imread(image_file)\n",
        "    # Invert the colors of the processed image\n",
        "    img = invert_monochrome_colors(img)\n",
        "\n",
        "    # Convert the image to grayscale and resize it to 32x32\n",
        "    img_gray = cv2.cvtColor(img, cv2.COLOR_BGR2GRAY)\n",
        "    img_resized = cv2.resize(img_gray, (image_width, image_height))\n",
        "\n",
        "\n",
        "    # Append the label (i) and the processed image to the result list\n",
        "    result.append([i, img_resized])\n",
        "\n",
        "    # Display the first 5 images\n",
        "    if i < 5:\n",
        "        plt.subplot(1, 5, i + 1)\n",
        "        plt.axis(\"off\")\n",
        "        plt.title(str(i))\n",
        "        plt.imshow(img_resized, cmap='gray')\n",
        "\n",
        "# Show the plotted images\n",
        "plt.show()\n",
        "\n",
        "\n",
        "\n"
      ],
      "metadata": {
        "colab": {
          "base_uri": "https://localhost:8080/",
          "height": 144
        },
        "id": "1b12GzkTqXVG",
        "outputId": "c0fc1189-70a7-4420-cdc6-82d5c8983636"
      },
      "execution_count": 14,
      "outputs": [
        {
          "output_type": "display_data",
          "data": {
            "text/plain": [
              "<Figure size 640x480 with 3 Axes>"
            ],
            "image/png": "[encoded data removed]"
          },
          "metadata": {}
        }
      ]
    },
    {
      "cell_type": "code",
      "source": [
        "for item in result:\n",
        "    index, image = item\n",
        "    shape = image.shape\n",
        "    #print(f\"Index {index}: Shape {shape}, Dimensions: {image.ndim}\")\n",
        "result"
      ],
      "metadata": {
        "colab": {
          "base_uri": "https://localhost:8080/"
        },
        "id": "0ILE6V9rDiCo",
        "outputId": "3ca38c98-ba51-498a-872e-9c2dfe79c739"
      },
      "execution_count": 15,
      "outputs": [
        {
          "output_type": "execute_result",
          "data": {
            "text/plain": [
              "[[0,\n",
              "  array([[0, 0, 0, ..., 0, 0, 0],\n",
              "         [0, 0, 0, ..., 0, 0, 0],\n",
              "         [0, 0, 0, ..., 0, 0, 0],\n",
              "         ...,\n",
              "         [0, 0, 0, ..., 0, 0, 0],\n",
              "         [0, 0, 0, ..., 0, 0, 0],\n",
              "         [0, 0, 0, ..., 0, 0, 0]], dtype=uint8)],\n",
              " [1,\n",
              "  array([[0, 0, 0, ..., 0, 0, 0],\n",
              "         [0, 0, 0, ..., 0, 0, 0],\n",
              "         [0, 0, 0, ..., 0, 0, 0],\n",
              "         ...,\n",
              "         [0, 0, 0, ..., 0, 0, 0],\n",
              "         [0, 0, 0, ..., 0, 0, 0],\n",
              "         [0, 0, 0, ..., 0, 0, 0]], dtype=uint8)],\n",
              " [2,\n",
              "  array([[0, 0, 0, ..., 0, 0, 0],\n",
              "         [0, 0, 0, ..., 0, 0, 0],\n",
              "         [0, 0, 0, ..., 0, 0, 0],\n",
              "         ...,\n",
              "         [0, 0, 0, ..., 0, 0, 0],\n",
              "         [0, 0, 0, ..., 0, 0, 0],\n",
              "         [0, 0, 0, ..., 0, 0, 0]], dtype=uint8)]]"
            ]
          },
          "metadata": {},
          "execution_count": 15
        }
      ]
    },
    {
      "cell_type": "code",
      "source": [
        "result[2][1][17]"
      ],
      "metadata": {
        "id": "AVi4two7Oe6J",
        "outputId": "46b20cb4-9242-402b-8616-8ce3d517c6b2",
        "colab": {
          "base_uri": "https://localhost:8080/"
        }
      },
      "execution_count": 16,
      "outputs": [
        {
          "output_type": "execute_result",
          "data": {
            "text/plain": [
              "array([  0,   0,   0,   0,   0,   0,   0,   0,   0,   0,   0,   0,   0,\n",
              "         0,   0,   0,   0,   0,   0,  47, 255,   1,   0,   0,   0,   0,\n",
              "         0,   0,   0,   0,   0,   0], dtype=uint8)"
            ]
          },
          "metadata": {},
          "execution_count": 16
        }
      ]
    },
    {
      "cell_type": "code",
      "source": [
        "im_size = 32\n",
        "im_color = 1\n",
        "in_shape = (im_size, im_size, im_color)\n",
        "\n",
        "new_image = []\n",
        "for d in result:\n",
        "  (num, img) = d\n",
        "  img = img.astype('float').reshape(im_size, im_size, im_color) / 255\n",
        "  new_image.append(img)\n",
        "new_image = np.array(new_image)"
      ],
      "metadata": {
        "id": "a7lyREWGHD3X"
      },
      "execution_count": 17,
      "outputs": []
    },
    {
      "cell_type": "code",
      "source": [
        "new_image.shape"
      ],
      "metadata": {
        "id": "vQSIcL-6HD_J",
        "outputId": "882f326a-6aeb-479c-e9ec-1ef701c4052c",
        "colab": {
          "base_uri": "https://localhost:8080/"
        }
      },
      "execution_count": 18,
      "outputs": [
        {
          "output_type": "execute_result",
          "data": {
            "text/plain": [
              "(3, 32, 32, 1)"
            ]
          },
          "metadata": {},
          "execution_count": 18
        }
      ]
    },
    {
      "cell_type": "code",
      "source": [
        "predicted = model.predict(new_image)"
      ],
      "metadata": {
        "id": "dbGK4jC1HD_n",
        "outputId": "3c86c6f1-3cf2-499e-9197-f294eb5efe7a",
        "colab": {
          "base_uri": "https://localhost:8080/"
        }
      },
      "execution_count": 19,
      "outputs": [
        {
          "output_type": "stream",
          "name": "stdout",
          "text": [
            "1/1 [==============================] - 0s 104ms/step\n"
          ]
        }
      ]
    },
    {
      "cell_type": "code",
      "source": [
        "import pandas as pd\n",
        "predictions = np.argmax(predicted, axis=1)\n",
        "pd.DataFrame(predictions)"
      ],
      "metadata": {
        "colab": {
          "base_uri": "https://localhost:8080/",
          "height": 143
        },
        "id": "J59_WENyHEAi",
        "outputId": "580d5bc5-7fc5-4544-e3b0-50e838a31be7"
      },
      "execution_count": 20,
      "outputs": [
        {
          "output_type": "execute_result",
          "data": {
            "text/plain": [
              "    0\n",
              "0  17\n",
              "1   5\n",
              "2   2"
            ],
            "text/html": [
              "\n",
              "  <div id=\"df-fe2baa19-e319-428b-b09c-7cb2659d2c30\" class=\"colab-df-container\">\n",
              "    <div>\n",
              "<style scoped>\n",
              "    .dataframe tbody tr th:only-of-type {\n",
              "        vertical-align: middle;\n",
              "    }\n",
              "\n",
              "    .dataframe tbody tr th {\n",
              "        vertical-align: top;\n",
              "    }\n",
              "\n",
              "    .dataframe thead th {\n",
              "        text-align: right;\n",
              "    }\n",
              "</style>\n",
              "<table border=\"1\" class=\"dataframe\">\n",
              "  <thead>\n",
              "    <tr style=\"text-align: right;\">\n",
              "      <th></th>\n",
              "      <th>0</th>\n",
              "    </tr>\n",
              "  </thead>\n",
              "  <tbody>\n",
              "    <tr>\n",
              "      <th>0</th>\n",
              "      <td>17</td>\n",
              "    </tr>\n",
              "    <tr>\n",
              "      <th>1</th>\n",
              "      <td>5</td>\n",
              "    </tr>\n",
              "    <tr>\n",
              "      <th>2</th>\n",
              "      <td>2</td>\n",
              "    </tr>\n",
              "  </tbody>\n",
              "</table>\n",
              "</div>\n",
              "    <div class=\"colab-df-buttons\">\n",
              "\n",
              "  <div class=\"colab-df-container\">\n",
              "    <button class=\"colab-df-convert\" onclick=\"convertToInteractive('df-fe2baa19-e319-428b-b09c-7cb2659d2c30')\"\n",
              "            title=\"Convert this dataframe to an interactive table.\"\n",
              "            style=\"display:none;\">\n",
              "\n",
              "  <svg xmlns=\"http://www.w3.org/2000/svg\" height=\"24px\" viewBox=\"0 -960 960 960\">\n",
              "    <path d=\"M120-120v-720h720v720H120Zm60-500h600v-160H180v160Zm220 220h160v-160H400v160Zm0 220h160v-160H400v160ZM180-400h160v-160H180v160Zm440 0h160v-160H620v160ZM180-180h160v-160H180v160Zm440 0h160v-160H620v160Z\"/>\n",
              "  </svg>\n",
              "    </button>\n",
              "\n",
              "  <style>\n",
              "    .colab-df-container {\n",
              "      display:flex;\n",
              "      gap: 12px;\n",
              "    }\n",
              "\n",
              "    .colab-df-convert {\n",
              "      background-color: #E8F0FE;\n",
              "      border: none;\n",
              "      border-radius: 50%;\n",
              "      cursor: pointer;\n",
              "      display: none;\n",
              "      fill: #1967D2;\n",
              "      height: 32px;\n",
              "      padding: 0 0 0 0;\n",
              "      width: 32px;\n",
              "    }\n",
              "\n",
              "    .colab-df-convert:hover {\n",
              "      background-color: #E2EBFA;\n",
              "      box-shadow: 0px 1px 2px rgba(60, 64, 67, 0.3), 0px 1px 3px 1px rgba(60, 64, 67, 0.15);\n",
              "      fill: #174EA6;\n",
              "    }\n",
              "\n",
              "    .colab-df-buttons div {\n",
              "      margin-bottom: 4px;\n",
              "    }\n",
              "\n",
              "    [theme=dark] .colab-df-convert {\n",
              "      background-color: #3B4455;\n",
              "      fill: #D2E3FC;\n",
              "    }\n",
              "\n",
              "    [theme=dark] .colab-df-convert:hover {\n",
              "      background-color: #434B5C;\n",
              "      box-shadow: 0px 1px 3px 1px rgba(0, 0, 0, 0.15);\n",
              "      filter: drop-shadow(0px 1px 2px rgba(0, 0, 0, 0.3));\n",
              "      fill: #FFFFFF;\n",
              "    }\n",
              "  </style>\n",
              "\n",
              "    <script>\n",
              "      const buttonEl =\n",
              "        document.querySelector('#df-fe2baa19-e319-428b-b09c-7cb2659d2c30 button.colab-df-convert');\n",
              "      buttonEl.style.display =\n",
              "        google.colab.kernel.accessAllowed ? 'block' : 'none';\n",
              "\n",
              "      async function convertToInteractive(key) {\n",
              "        const element = document.querySelector('#df-fe2baa19-e319-428b-b09c-7cb2659d2c30');\n",
              "        const dataTable =\n",
              "          await google.colab.kernel.invokeFunction('convertToInteractive',\n",
              "                                                    [key], {});\n",
              "        if (!dataTable) return;\n",
              "\n",
              "        const docLinkHtml = 'Like what you see? Visit the ' +\n",
              "          '<a target=\"_blank\" href=https://colab.research.google.com/notebooks/data_table.ipynb>data table notebook</a>'\n",
              "          + ' to learn more about interactive tables.';\n",
              "        element.innerHTML = '';\n",
              "        dataTable['output_type'] = 'display_data';\n",
              "        await google.colab.output.renderOutput(dataTable, element);\n",
              "        const docLink = document.createElement('div');\n",
              "        docLink.innerHTML = docLinkHtml;\n",
              "        element.appendChild(docLink);\n",
              "      }\n",
              "    </script>\n",
              "  </div>\n",
              "\n",
              "\n",
              "<div id=\"df-66d001e6-16ca-41cc-a091-7921b4179755\">\n",
              "  <button class=\"colab-df-quickchart\" onclick=\"quickchart('df-66d001e6-16ca-41cc-a091-7921b4179755')\"\n",
              "            title=\"Suggest charts\"\n",
              "            style=\"display:none;\">\n",
              "\n",
              "<svg xmlns=\"http://www.w3.org/2000/svg\" height=\"24px\"viewBox=\"0 0 24 24\"\n",
              "     width=\"24px\">\n",
              "    <g>\n",
              "        <path d=\"M19 3H5c-1.1 0-2 .9-2 2v14c0 1.1.9 2 2 2h14c1.1 0 2-.9 2-2V5c0-1.1-.9-2-2-2zM9 17H7v-7h2v7zm4 0h-2V7h2v10zm4 0h-2v-4h2v4z\"/>\n",
              "    </g>\n",
              "</svg>\n",
              "  </button>\n",
              "\n",
              "<style>\n",
              "  .colab-df-quickchart {\n",
              "      --bg-color: #E8F0FE;\n",
              "      --fill-color: #1967D2;\n",
              "      --hover-bg-color: #E2EBFA;\n",
              "      --hover-fill-color: #174EA6;\n",
              "      --disabled-fill-color: #AAA;\n",
              "      --disabled-bg-color: #DDD;\n",
              "  }\n",
              "\n",
              "  [theme=dark] .colab-df-quickchart {\n",
              "      --bg-color: #3B4455;\n",
              "      --fill-color: #D2E3FC;\n",
              "      --hover-bg-color: #434B5C;\n",
              "      --hover-fill-color: #FFFFFF;\n",
              "      --disabled-bg-color: #3B4455;\n",
              "      --disabled-fill-color: #666;\n",
              "  }\n",
              "\n",
              "  .colab-df-quickchart {\n",
              "    background-color: var(--bg-color);\n",
              "    border: none;\n",
              "    border-radius: 50%;\n",
              "    cursor: pointer;\n",
              "    display: none;\n",
              "    fill: var(--fill-color);\n",
              "    height: 32px;\n",
              "    padding: 0;\n",
              "    width: 32px;\n",
              "  }\n",
              "\n",
              "  .colab-df-quickchart:hover {\n",
              "    background-color: var(--hover-bg-color);\n",
              "    box-shadow: 0 1px 2px rgba(60, 64, 67, 0.3), 0 1px 3px 1px rgba(60, 64, 67, 0.15);\n",
              "    fill: var(--button-hover-fill-color);\n",
              "  }\n",
              "\n",
              "  .colab-df-quickchart-complete:disabled,\n",
              "  .colab-df-quickchart-complete:disabled:hover {\n",
              "    background-color: var(--disabled-bg-color);\n",
              "    fill: var(--disabled-fill-color);\n",
              "    box-shadow: none;\n",
              "  }\n",
              "\n",
              "  .colab-df-spinner {\n",
              "    border: 2px solid var(--fill-color);\n",
              "    border-color: transparent;\n",
              "    border-bottom-color: var(--fill-color);\n",
              "    animation:\n",
              "      spin 1s steps(1) infinite;\n",
              "  }\n",
              "\n",
              "  @keyframes spin {\n",
              "    0% {\n",
              "      border-color: transparent;\n",
              "      border-bottom-color: var(--fill-color);\n",
              "      border-left-color: var(--fill-color);\n",
              "    }\n",
              "    20% {\n",
              "      border-color: transparent;\n",
              "      border-left-color: var(--fill-color);\n",
              "      border-top-color: var(--fill-color);\n",
              "    }\n",
              "    30% {\n",
              "      border-color: transparent;\n",
              "      border-left-color: var(--fill-color);\n",
              "      border-top-color: var(--fill-color);\n",
              "      border-right-color: var(--fill-color);\n",
              "    }\n",
              "    40% {\n",
              "      border-color: transparent;\n",
              "      border-right-color: var(--fill-color);\n",
              "      border-top-color: var(--fill-color);\n",
              "    }\n",
              "    60% {\n",
              "      border-color: transparent;\n",
              "      border-right-color: var(--fill-color);\n",
              "    }\n",
              "    80% {\n",
              "      border-color: transparent;\n",
              "      border-right-color: var(--fill-color);\n",
              "      border-bottom-color: var(--fill-color);\n",
              "    }\n",
              "    90% {\n",
              "      border-color: transparent;\n",
              "      border-bottom-color: var(--fill-color);\n",
              "    }\n",
              "  }\n",
              "</style>\n",
              "\n",
              "  <script>\n",
              "    async function quickchart(key) {\n",
              "      const quickchartButtonEl =\n",
              "        document.querySelector('#' + key + ' button');\n",
              "      quickchartButtonEl.disabled = true;  // To prevent multiple clicks.\n",
              "      quickchartButtonEl.classList.add('colab-df-spinner');\n",
              "      try {\n",
              "        const charts = await google.colab.kernel.invokeFunction(\n",
              "            'suggestCharts', [key], {});\n",
              "      } catch (error) {\n",
              "        console.error('Error during call to suggestCharts:', error);\n",
              "      }\n",
              "      quickchartButtonEl.classList.remove('colab-df-spinner');\n",
              "      quickchartButtonEl.classList.add('colab-df-quickchart-complete');\n",
              "    }\n",
              "    (() => {\n",
              "      let quickchartButtonEl =\n",
              "        document.querySelector('#df-66d001e6-16ca-41cc-a091-7921b4179755 button');\n",
              "      quickchartButtonEl.style.display =\n",
              "        google.colab.kernel.accessAllowed ? 'block' : 'none';\n",
              "    })();\n",
              "  </script>\n",
              "</div>\n",
              "    </div>\n",
              "  </div>\n"
            ]
          },
          "metadata": {},
          "execution_count": 20
        }
      ]
    },
    {
      "cell_type": "code",
      "source": [
        "corresponding_labels = [folder[i] for i in predictions]\n",
        "\n",
        "print(corresponding_labels)"
      ],
      "metadata": {
        "colab": {
          "base_uri": "https://localhost:8080/"
        },
        "id": "r8-pq8QVHED8",
        "outputId": "ecff5186-110b-4af3-8051-c00eb0990c73"
      },
      "execution_count": 21,
      "outputs": [
        {
          "output_type": "stream",
          "name": "stdout",
          "text": [
            "['つ', 'か', 'う']\n"
          ]
        }
      ]
    },
    {
      "cell_type": "code",
      "source": [
        "#毎回写真を消す\n",
        "file_list = glob.glob(\"block_ROI_img*png\")\n",
        "for file in file_list:\n",
        "  os.remove(file)"
      ],
      "metadata": {
        "id": "iTaZCK73qXWC"
      },
      "execution_count": 22,
      "outputs": []
    },
    {
      "cell_type": "code",
      "source": [],
      "metadata": {
        "id": "saCmZOprGEqN"
      },
      "execution_count": null,
      "outputs": []
    }
  ]
}