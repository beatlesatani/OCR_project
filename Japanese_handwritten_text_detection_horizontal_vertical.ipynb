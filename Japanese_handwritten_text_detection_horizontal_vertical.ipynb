{
  "nbformat": 4,
  "nbformat_minor": 0,
  "metadata": {
    "colab": {
      "provenance": [],
      "include_colab_link": true
    },
    "kernelspec": {
      "name": "python3",
      "display_name": "Python 3"
    }
  },
  "cells": [
    {
      "cell_type": "markdown",
      "metadata": {
        "id": "view-in-github",
        "colab_type": "text"
      },
      "source": [
        "<a href=\"https://colab.research.google.com/github/beatlesatani/OCR_project/blob/main/Japanese_handwritten_text_detection_horizontal_vertical.ipynb\" target=\"_parent\"><img src=\"https://colab.research.google.com/assets/colab-badge.svg\" alt=\"Open In Colab\"/></a>"
      ]
    },
    {
      "cell_type": "code",
      "metadata": {
        "colab": {
          "base_uri": "https://localhost:8080/",
          "height": 960
        },
        "id": "UwUR9onHp6BL",
        "outputId": "ea5869fe-7775-43fb-d24e-ffcfe8e37473"
      },
      "source": [
        "\n",
        "#### 1.import ####\n",
        "\n",
        "import os\n",
        "import cv2\n",
        "import numpy as np\n",
        "from imutils import contours\n",
        "import matplotlib.pyplot as plt\n",
        "import glob\n",
        "from natsort import natsorted # ファイルを自然順（0,1,2,3,・・,20,21,・・30,31,・・）に並べるために「natsort」を利用\n",
        "\n",
        "from google.colab import drive\n",
        "drive.mount('/content/gdrive')\n",
        "\n",
        "#### ２．set up pictures ####\n",
        "input_file = \"/content/gdrive/MyDrive/pictures/live.png\"\n",
        "\n",
        "\n",
        "#### 3.setting ####\n",
        "horizontal = 0\n",
        "OCR_mode = 0\n",
        "\n",
        "\n",
        "# 膨張処理の設定\n",
        "#【横書き】大まかな文字領域の検出（ブロック検出）のための膨張処理（カーネルサイズ・膨張処理回数）の設定\n",
        "block_horizontal_kernel_hight = 5  # カーネルの縦の高さ\n",
        "block_horizontal_kernel_width = 5  # カーネルの横の幅\n",
        "block_horizontal_iterations = 4    # 膨張処理回数\n",
        "\n",
        "'''\n",
        "#【横書き】行領域の検出（行検出）のための膨張処理（カーネルサイズ・膨張処理回数）の設定\n",
        "column_horizontal_kernel_hight = 2  # カーネルの縦の高さ\n",
        "column_horizontal_kernel_width = 5  # カーネルの横の幅\n",
        "column_horizontal_iterations = 6    # 膨張処理回数\n",
        "'''\n",
        "\n",
        "#【横書き】個別の文字の検出（文字検出）のための膨張処理（カーネルサイズ・膨張処理回数）の設定\n",
        "character_horizontal_kernel_hight = 5  # カーネルの縦の高さ 5\n",
        "character_horizontal_kernel_width = 3  # カーネルの横の幅 3\n",
        "character_horizontal_iterations = 3    # 膨張処理回数\n",
        "\n",
        "\n",
        "# 輪郭のカット設定\n",
        "# ブロック検出：文字領域検出した輪郭の「横幅」が、以下の範囲なら輪郭を残す\n",
        "block_horizontal_height_minimum = 5  # 最小値（ピクセル）\n",
        "block_horizontal_height_max = 1000   # 最大値（ピクセル）\n",
        "\n",
        "# ブロック検出：文字領域検出した輪郭の「縦の高さ」が、以下の範囲なら輪郭を残す\n",
        "block_vertical_height_minimum = 5  # 最小値（ピクセル）\n",
        "block_vertical_height_max = 1000   # 最大値（ピクセル）\n",
        "\n",
        "'''\n",
        "# 行検出：文字領域検出した輪郭の「横幅」が、以下の範囲なら輪郭を残す\n",
        "row_column_horizontal_height_minimum = 5  # 最小値（ピクセル）\n",
        "row_column_horizontal_height_max = 1000   # 最大値（ピクセル）\n",
        "\n",
        "# 列検出：文字領域検出した輪郭の「縦の高さ」が、以下の範囲なら輪郭を残す\n",
        "row_column_vertical_height_minimum = 5  # 最小値（ピクセル）\n",
        "row_column_vertical_height_max = 1000   # 最大値（ピクセル）\n",
        "\n",
        "\n",
        "# 個別の文字領域検出した輪郭の「横幅」が、以下の範囲なら輪郭を残す\n",
        "character_text_detection_horizontal_height_minimum = 10  # 最小値（ピクセル）\n",
        "character_text_detection_horizontal_height_max = 200    # 最大値（ピクセル）\n",
        "\n",
        "# 個別の文字領域検出した輪郭の「縦の高さ」が、以下の範囲なら輪郭を残す\n",
        "character_text_detection_vertical_height_minimum = 10  # 最小値（ピクセル）\n",
        "character_text_detection_vertical_height_max = 200     # 最大値（ピクセル）\n",
        "\n",
        "'''\n",
        "\n",
        "\n",
        "\n",
        "####  ４．大まかな文字領域の検出（ブロック検出） ####\n",
        "# 画像から、ブロック検出をおこないます\n",
        "# 「block_ROI_img〜.png」（ブロック検出画像）を作成します\n",
        "# 「block_text-detection.png」（ブロック検出の結果を、元の画像に描画した画像）を作成します\n",
        "\n",
        "\n",
        "# Process for detecting and extracting character regions from images\n",
        "def block_contours (OCR_input_file):\n",
        "  img = cv2.imread(OCR_input_file)\n",
        "  width = 450\n",
        "  height = 350\n",
        "  img = cv2.resize(img, (width, height))\n",
        "\n",
        "  # convert image to monochrome gray picture\n",
        "  img_gray = cv2.cvtColor(img, cv2.COLOR_BGR2GRAY)\n",
        "\n",
        "  # convert to monochrome image\n",
        "  retval, img_binary = cv2.threshold(img_gray, 0, 255, cv2.THRESH_BINARY_INV + cv2.THRESH_OTSU)\n",
        "\n",
        "  # 白部分の膨張処理（Dilation）：モルフォロジー変換 - 2値画像を対象\n",
        "  if OCR_mode == 0:\n",
        "    kernel = np.ones((block_horizontal_kernel_hight, block_horizontal_kernel_width),np.uint8) # カーネル（構造的要素）：全要素の値が1の縦横が任意のピクセルのカーネル\n",
        "    img_dilation = cv2.dilate(img_binary,kernel,iterations = block_horizontal_iterations)\n",
        "  elif OCR_mode == 1: #\n",
        "    kernel = np.ones((block_vertical_kernel_hight, block_vertical_kernel_width),np.uint8) # カーネル（構造的要素）：全要素の値が1の縦横が任意のピクセルのカーネル\n",
        "    img_dilation = cv2.dilate(img_binary,kernel,iterations = block_vertical_iterations) #「iterations=」繰り返し膨張処理を行う回数を指定\n",
        "\n",
        "  print('\\n【Binarization】')\n",
        "\n",
        "  # 膨張処理後の2値化画像の表示\n",
        "  plt.imshow(cv2.cvtColor(img_dilation, cv2.COLOR_BGR2RGB))\n",
        "  plt.show()\n",
        "\n",
        "\n",
        "  # detect contour\n",
        "  #cnts: coordinates of contour,  hierarchy: how to detect contour\n",
        "  #cv2.RETR_EXTERNAL：return the most external contour.\n",
        "  #cv2.CHAIN_APPROX_SIMPLE : do not contain all pointns on the contour to reduce data size.leaves only their end points.\n",
        "  cnts, hierarchy = cv2.findContours(img_dilation, cv2.RETR_EXTERNAL, cv2.CHAIN_APPROX_SIMPLE)\n",
        "\n",
        "  if OCR_mode == 0:\n",
        "    cnts, hierarchy = contours.sort_contours(cnts, method='left-to-right')\n",
        "  elif OCR_mode == 1:\n",
        "    cnts, hierarchy = contours.sort_contours(cnts, method='right-to-left')\n",
        "\n",
        "  # first setting of ROI\n",
        "  block_ROI_index = 0\n",
        "\n",
        "  # convert contour coordinates to the list\n",
        "  result = []\n",
        "  for contour in cnts:\n",
        "    x, y, w, h = cv2.boundingRect(contour)\n",
        "    # remove too large area / too small area\n",
        "    if not block_vertical_height_minimum < w < block_vertical_height_max:\n",
        "      continue\n",
        "    if not block_horizontal_height_minimum < h < block_horizontal_height_max:\n",
        "      continue\n",
        "\n",
        "    # extract ROI\n",
        "    block_ROI = img[y:y+h, x:x+w]\n",
        "    cv2.imwrite('block_ROI_img{}.png'.format(block_ROI_index), block_ROI)\n",
        "    block_ROI_index += 1\n",
        "\n",
        "    result.append([x, y, w, h])\n",
        "\n",
        "\n",
        "  # 画面に矩形の輪郭を描画 （描画機能）\n",
        "  for x, y, w, h in result:\n",
        "      cv2.rectangle(img, (x, y), (x+w, y+h), (100, 255, 100), 3)\n",
        "\n",
        "\n",
        "  # 解説用のコメント（文字領域の輪郭検出・抽出）\n",
        "  if OCR_mode == 0:\n",
        "    print('\\n【Text detection・Contours】')\n",
        "  elif OCR_mode == 1:\n",
        "    print('\\n【Text detection・Contours】')\n",
        "\n",
        "  # 文字領域の輪郭検出・抽出結果の表示\n",
        "  plt.imshow(cv2.cvtColor(img, cv2.COLOR_BGR2RGB))\n",
        "  plt.savefig('block_text-detection.png', dpi=300)\n",
        "  plt.show()\n",
        "\n",
        "\n",
        "\n",
        "## 大まかな文字領域の検出（ブロック検出）の関数（block_contours）の実行\n",
        "block_contours (input_file)\n",
        "\n"
      ],
      "execution_count": 1,
      "outputs": [
        {
          "output_type": "stream",
          "name": "stdout",
          "text": [
            "Drive already mounted at /content/gdrive; to attempt to forcibly remount, call drive.mount(\"/content/gdrive\", force_remount=True).\n",
            "\n",
            "【Binarization】\n"
          ]
        },
        {
          "output_type": "display_data",
          "data": {
            "text/plain": [
              "<Figure size 640x480 with 1 Axes>"
            ],
            "image/png": "[encoded data removed]"
          },
          "metadata": {}
        },
        {
          "output_type": "stream",
          "name": "stdout",
          "text": [
            "\n",
            "【Text detection・Contours】\n"
          ]
        },
        {
          "output_type": "display_data",
          "data": {
            "text/plain": [
              "<Figure size 640x480 with 1 Axes>"
            ],
            "image/png": "[encoded data removed]"
          },
          "metadata": {}
        }
      ]
    },
    {
      "cell_type": "markdown",
      "source": [
        "# New Section"
      ],
      "metadata": {
        "id": "3jaAEQqF80kc"
      }
    },
    {
      "cell_type": "code",
      "metadata": {
        "id": "1ulqBgz1-F-1",
        "colab": {
          "base_uri": "https://localhost:8080/",
          "height": 105
        },
        "outputId": "2a3274a9-be97-4e91-fb26-18a65353b208"
      },
      "source": [
        "'''\n",
        "import glob\n",
        "import os\n",
        "\n",
        "\n",
        "# 大まかな文字領域の検出（ブロック検出）した画像（「block_ROI_img〜.png」）の削除\n",
        "file_list = glob.glob(\"block_ROI_img*png\")\n",
        "for file in file_list:\n",
        "  os.remove(file)\n",
        "\n",
        "\n",
        "# 横書き・縦書きの行・列領域の検出（行と列の検出）した画像（「row_column_ROI_img〜.png」）の削除\n",
        "file_list = glob.glob('row_column_ROI_img*png')\n",
        "for file in file_list:\n",
        "  os.remove(file)\n",
        "\n",
        "\n",
        "# 個別の文字の検出（文字検出）画像（「OCR_img〜.png」）の削除\n",
        "file_list = glob.glob('OCR_img*png')\n",
        "for file in file_list:\n",
        "  os.remove(file)\n",
        "'''"
      ],
      "execution_count": 2,
      "outputs": [
        {
          "output_type": "execute_result",
          "data": {
            "text/plain": [
              "'\\nimport glob\\nimport os\\n\\n\\n# 大まかな文字領域の検出（ブロック検出）した画像（「block_ROI_img〜.png」）の削除\\nfile_list = glob.glob(\"block_ROI_img*png\")\\nfor file in file_list:\\n  os.remove(file)\\n\\n\\n# 横書き・縦書きの行・列領域の検出（行と列の検出）した画像（「row_column_ROI_img〜.png」）の削除\\nfile_list = glob.glob(\\'row_column_ROI_img*png\\')\\nfor file in file_list:\\n  os.remove(file)\\n\\n\\n# 個別の文字の検出（文字検出）画像（「OCR_img〜.png」）の削除\\nfile_list = glob.glob(\\'OCR_img*png\\')\\nfor file in file_list:\\n  os.remove(file)\\n'"
            ],
            "application/vnd.google.colaboratory.intrinsic+json": {
              "type": "string"
            }
          },
          "metadata": {},
          "execution_count": 2
        }
      ]
    },
    {
      "cell_type": "code",
      "source": [
        "from tensorflow.keras.models import load_model\n",
        "model = load_model(\"/content/gdrive/MyDrive/hiragana_recognition_cnn.h5\")\n",
        "image_width = 32  # ここを変更。使用する学習済みモデルと同じwidth（横幅）を指定\n",
        "image_height = 32 # ここを変更。使用する学習済みモデルと同じheight（縦の高さ）を指定"
      ],
      "metadata": {
        "id": "MJuY5sDHwp4m"
      },
      "execution_count": 3,
      "outputs": []
    },
    {
      "cell_type": "code",
      "source": [
        "#### ８．画像判定のためのプログラム ####\n",
        "folder = ['あ','い','う','え','お',\n",
        "              'か','き','く','け','こ',\n",
        "              'さ','し','す','せ','そ',\n",
        "              'た','ち','つ','て','と',\n",
        "              'な','に','ぬ','ね','の',\n",
        "              'は','ひ','ふ','へ','ほ',\n",
        "              'ま','み','む','め','も',\n",
        "              'や','ゆ','よ',\n",
        "              'ら','り','る','れ','ろ',\n",
        "              'わ','ん','を']\n",
        "\n",
        "\n",
        "import cv2\n",
        "import matplotlib.pyplot as plt\n",
        "\n",
        "def invert_monochrome_colors(image):\n",
        "    if image is not None:\n",
        "        inverted_image = 255 - image\n",
        "        return inverted_image\n",
        "    else:\n",
        "        print(\"Failed to load the image.\")\n",
        "        return None\n",
        "\n",
        "# List to store the processed images\n",
        "result = []\n",
        "\n",
        "file_list = glob.glob(\"block_ROI_img*.png\")\n",
        "image_files = sorted(file_list)\n",
        "\n",
        "# Loop through the image files\n",
        "for i, image_file in enumerate(image_files):\n",
        "    # Load the image using OpenCV\n",
        "    img = cv2.imread(image_file)\n",
        "    # Invert the colors of the processed image\n",
        "    img = invert_monochrome_colors(img)\n",
        "\n",
        "    # Convert the image to grayscale and resize it to 32x32\n",
        "    img_gray = cv2.cvtColor(img, cv2.COLOR_BGR2GRAY)\n",
        "    img_resized = cv2.resize(img_gray, (image_width, image_height))\n",
        "\n",
        "\n",
        "    # Append the label (i) and the processed image to the result list\n",
        "    result.append([i, img_resized])\n",
        "\n",
        "    # Display the first 5 images\n",
        "    if i < 5:\n",
        "        plt.subplot(1, 5, i + 1)\n",
        "        plt.axis(\"off\")\n",
        "        plt.title(str(i))\n",
        "        plt.imshow(img_resized, cmap='gray')\n",
        "\n",
        "# Show the plotted images\n",
        "plt.show()\n",
        "\n",
        "\n",
        "\n"
      ],
      "metadata": {
        "colab": {
          "base_uri": "https://localhost:8080/",
          "height": 144
        },
        "id": "1b12GzkTqXVG",
        "outputId": "9feee362-e3d2-486e-aeb7-e596c0165200"
      },
      "execution_count": 4,
      "outputs": [
        {
          "output_type": "display_data",
          "data": {
            "text/plain": [
              "<Figure size 640x480 with 3 Axes>"
            ],
            "image/png": "[encoded data removed]"
          },
          "metadata": {}
        }
      ]
    },
    {
      "cell_type": "code",
      "source": [
        "for item in result:\n",
        "    index, image = item\n",
        "    shape = image.shape\n",
        "    #print(f\"Index {index}: Shape {shape}, Dimensions: {image.ndim}\")\n",
        "result"
      ],
      "metadata": {
        "colab": {
          "base_uri": "https://localhost:8080/"
        },
        "id": "0ILE6V9rDiCo",
        "outputId": "8b1d354c-351f-4d45-aa90-d23d7d4be875"
      },
      "execution_count": 5,
      "outputs": [
        {
          "output_type": "execute_result",
          "data": {
            "text/plain": [
              "[[0,\n",
              "  array([[ 0,  0,  0, ...,  0,  0,  0],\n",
              "         [ 0,  0,  0, ...,  0,  0,  0],\n",
              "         [ 0,  0, 70, ...,  0,  0,  0],\n",
              "         ...,\n",
              "         [ 0,  0,  0, ...,  0,  0,  0],\n",
              "         [ 0,  0,  0, ...,  0,  0,  0],\n",
              "         [ 0,  0,  0, ...,  0,  0,  0]], dtype=uint8)],\n",
              " [1,\n",
              "  array([[  0,   0,   0, ...,   0,   0,   0],\n",
              "         [  0,   0,   0, ...,   0,   0,   0],\n",
              "         [  0,   0,   0, ...,   0,   0,   0],\n",
              "         ...,\n",
              "         [  0,   0,   0, ..., 192,   0,   0],\n",
              "         [  0,   0,   0, ...,   0,   0,   0],\n",
              "         [  0,   0,   0, ...,   0,   0,   0]], dtype=uint8)],\n",
              " [2,\n",
              "  array([[0, 0, 0, ..., 0, 0, 0],\n",
              "         [0, 0, 0, ..., 0, 0, 0],\n",
              "         [0, 0, 0, ..., 0, 0, 0],\n",
              "         ...,\n",
              "         [0, 0, 0, ..., 0, 0, 0],\n",
              "         [0, 0, 0, ..., 0, 0, 0],\n",
              "         [0, 0, 0, ..., 0, 0, 0]], dtype=uint8)]]"
            ]
          },
          "metadata": {},
          "execution_count": 5
        }
      ]
    },
    {
      "cell_type": "code",
      "source": [
        "result[2][1][14]"
      ],
      "metadata": {
        "id": "AVi4two7Oe6J",
        "outputId": "c5bc9820-0ef8-4c2e-e4bb-59b244541ea6",
        "colab": {
          "base_uri": "https://localhost:8080/"
        }
      },
      "execution_count": 19,
      "outputs": [
        {
          "output_type": "execute_result",
          "data": {
            "text/plain": [
              "array([  0,   0,   0,   0,   0,   0,   0,   0,   0,   0, 226, 255, 255,\n",
              "       255, 255, 255, 255, 255, 255, 255, 255, 255, 162,   0,   0,   0,\n",
              "         0,   0,   0,   0,   0,   0], dtype=uint8)"
            ]
          },
          "metadata": {},
          "execution_count": 19
        }
      ]
    },
    {
      "cell_type": "code",
      "source": [
        "one_image = result[0]\n",
        "one_image = one_image[1]\n",
        "one_image.shape\n",
        "#need to add brightness values"
      ],
      "metadata": {
        "id": "qI9luK2_GD4e",
        "outputId": "29f2e74d-ea7e-41c9-e94c-10b6df6477d8",
        "colab": {
          "base_uri": "https://localhost:8080/"
        }
      },
      "execution_count": 7,
      "outputs": [
        {
          "output_type": "execute_result",
          "data": {
            "text/plain": [
              "(32, 32)"
            ]
          },
          "metadata": {},
          "execution_count": 7
        }
      ]
    },
    {
      "cell_type": "code",
      "source": [
        "im_size = 32\n",
        "im_color = 1\n",
        "in_shape = (im_size, im_size, im_color)\n",
        "\n",
        "new_image = []\n",
        "for d in result:\n",
        "  (num, img) = d\n",
        "  img = img.astype('float').reshape(im_size, im_size, im_color) / 255\n",
        "  new_image.append(img)\n",
        "new_image = np.array(new_image)"
      ],
      "metadata": {
        "id": "a7lyREWGHD3X"
      },
      "execution_count": 8,
      "outputs": []
    },
    {
      "cell_type": "code",
      "source": [
        "plt.subplot(1, 5, i + 1)\n",
        "plt.axis(\"off\")\n",
        "plt.title(str(i))\n",
        "plt.imshow(image, cmap='gray')\n",
        "\n",
        "# Show the plotted images\n",
        "plt.show()"
      ],
      "metadata": {
        "id": "ECORpCJ9S8oV",
        "outputId": "c3a72aea-b63e-41b6-91e1-852f6098356f",
        "colab": {
          "base_uri": "https://localhost:8080/",
          "height": 144
        }
      },
      "execution_count": 9,
      "outputs": [
        {
          "output_type": "display_data",
          "data": {
            "text/plain": [
              "<Figure size 640x480 with 1 Axes>"
            ],
            "image/png": "[encoded data removed]"
          },
          "metadata": {}
        }
      ]
    },
    {
      "cell_type": "code",
      "source": [
        "new_image.shape"
      ],
      "metadata": {
        "id": "vQSIcL-6HD_J",
        "outputId": "a19de207-c021-4c87-890b-dd0fd1bf07b5",
        "colab": {
          "base_uri": "https://localhost:8080/"
        }
      },
      "execution_count": 11,
      "outputs": [
        {
          "output_type": "execute_result",
          "data": {
            "text/plain": [
              "(3, 32, 32, 1)"
            ]
          },
          "metadata": {},
          "execution_count": 11
        }
      ]
    },
    {
      "cell_type": "code",
      "source": [
        "predicted = model.predict(new_image)"
      ],
      "metadata": {
        "id": "dbGK4jC1HD_n",
        "outputId": "d9b6ead9-8ef5-4462-dbce-0f4d614310a7",
        "colab": {
          "base_uri": "https://localhost:8080/"
        }
      },
      "execution_count": 12,
      "outputs": [
        {
          "output_type": "stream",
          "name": "stdout",
          "text": [
            "1/1 [==============================] - 0s 91ms/step\n"
          ]
        }
      ]
    },
    {
      "cell_type": "code",
      "source": [
        "import pandas as pd"
      ],
      "metadata": {
        "id": "q7iwNCSbHOhT"
      },
      "execution_count": 13,
      "outputs": []
    },
    {
      "cell_type": "code",
      "source": [
        "predictions = np.argmax(predicted, axis=1)\n",
        "pd.DataFrame(predictions)"
      ],
      "metadata": {
        "colab": {
          "base_uri": "https://localhost:8080/",
          "height": 143
        },
        "id": "J59_WENyHEAi",
        "outputId": "82682005-85c9-40a9-843e-66d9994b7726"
      },
      "execution_count": 14,
      "outputs": [
        {
          "output_type": "execute_result",
          "data": {
            "text/plain": [
              "    0\n",
              "0   1\n",
              "1  10\n",
              "2  14"
            ],
            "text/html": [
              "\n",
              "  <div id=\"df-33cf6cd6-ee54-4a1b-8947-54a4c1b2249c\" class=\"colab-df-container\">\n",
              "    <div>\n",
              "<style scoped>\n",
              "    .dataframe tbody tr th:only-of-type {\n",
              "        vertical-align: middle;\n",
              "    }\n",
              "\n",
              "    .dataframe tbody tr th {\n",
              "        vertical-align: top;\n",
              "    }\n",
              "\n",
              "    .dataframe thead th {\n",
              "        text-align: right;\n",
              "    }\n",
              "</style>\n",
              "<table border=\"1\" class=\"dataframe\">\n",
              "  <thead>\n",
              "    <tr style=\"text-align: right;\">\n",
              "      <th></th>\n",
              "      <th>0</th>\n",
              "    </tr>\n",
              "  </thead>\n",
              "  <tbody>\n",
              "    <tr>\n",
              "      <th>0</th>\n",
              "      <td>1</td>\n",
              "    </tr>\n",
              "    <tr>\n",
              "      <th>1</th>\n",
              "      <td>10</td>\n",
              "    </tr>\n",
              "    <tr>\n",
              "      <th>2</th>\n",
              "      <td>14</td>\n",
              "    </tr>\n",
              "  </tbody>\n",
              "</table>\n",
              "</div>\n",
              "    <div class=\"colab-df-buttons\">\n",
              "\n",
              "  <div class=\"colab-df-container\">\n",
              "    <button class=\"colab-df-convert\" onclick=\"convertToInteractive('df-33cf6cd6-ee54-4a1b-8947-54a4c1b2249c')\"\n",
              "            title=\"Convert this dataframe to an interactive table.\"\n",
              "            style=\"display:none;\">\n",
              "\n",
              "  <svg xmlns=\"http://www.w3.org/2000/svg\" height=\"24px\" viewBox=\"0 -960 960 960\">\n",
              "    <path d=\"M120-120v-720h720v720H120Zm60-500h600v-160H180v160Zm220 220h160v-160H400v160Zm0 220h160v-160H400v160ZM180-400h160v-160H180v160Zm440 0h160v-160H620v160ZM180-180h160v-160H180v160Zm440 0h160v-160H620v160Z\"/>\n",
              "  </svg>\n",
              "    </button>\n",
              "\n",
              "  <style>\n",
              "    .colab-df-container {\n",
              "      display:flex;\n",
              "      gap: 12px;\n",
              "    }\n",
              "\n",
              "    .colab-df-convert {\n",
              "      background-color: #E8F0FE;\n",
              "      border: none;\n",
              "      border-radius: 50%;\n",
              "      cursor: pointer;\n",
              "      display: none;\n",
              "      fill: #1967D2;\n",
              "      height: 32px;\n",
              "      padding: 0 0 0 0;\n",
              "      width: 32px;\n",
              "    }\n",
              "\n",
              "    .colab-df-convert:hover {\n",
              "      background-color: #E2EBFA;\n",
              "      box-shadow: 0px 1px 2px rgba(60, 64, 67, 0.3), 0px 1px 3px 1px rgba(60, 64, 67, 0.15);\n",
              "      fill: #174EA6;\n",
              "    }\n",
              "\n",
              "    .colab-df-buttons div {\n",
              "      margin-bottom: 4px;\n",
              "    }\n",
              "\n",
              "    [theme=dark] .colab-df-convert {\n",
              "      background-color: #3B4455;\n",
              "      fill: #D2E3FC;\n",
              "    }\n",
              "\n",
              "    [theme=dark] .colab-df-convert:hover {\n",
              "      background-color: #434B5C;\n",
              "      box-shadow: 0px 1px 3px 1px rgba(0, 0, 0, 0.15);\n",
              "      filter: drop-shadow(0px 1px 2px rgba(0, 0, 0, 0.3));\n",
              "      fill: #FFFFFF;\n",
              "    }\n",
              "  </style>\n",
              "\n",
              "    <script>\n",
              "      const buttonEl =\n",
              "        document.querySelector('#df-33cf6cd6-ee54-4a1b-8947-54a4c1b2249c button.colab-df-convert');\n",
              "      buttonEl.style.display =\n",
              "        google.colab.kernel.accessAllowed ? 'block' : 'none';\n",
              "\n",
              "      async function convertToInteractive(key) {\n",
              "        const element = document.querySelector('#df-33cf6cd6-ee54-4a1b-8947-54a4c1b2249c');\n",
              "        const dataTable =\n",
              "          await google.colab.kernel.invokeFunction('convertToInteractive',\n",
              "                                                    [key], {});\n",
              "        if (!dataTable) return;\n",
              "\n",
              "        const docLinkHtml = 'Like what you see? Visit the ' +\n",
              "          '<a target=\"_blank\" href=https://colab.research.google.com/notebooks/data_table.ipynb>data table notebook</a>'\n",
              "          + ' to learn more about interactive tables.';\n",
              "        element.innerHTML = '';\n",
              "        dataTable['output_type'] = 'display_data';\n",
              "        await google.colab.output.renderOutput(dataTable, element);\n",
              "        const docLink = document.createElement('div');\n",
              "        docLink.innerHTML = docLinkHtml;\n",
              "        element.appendChild(docLink);\n",
              "      }\n",
              "    </script>\n",
              "  </div>\n",
              "\n",
              "\n",
              "<div id=\"df-040aa779-4ea8-4c05-9006-c8bad3cd93e4\">\n",
              "  <button class=\"colab-df-quickchart\" onclick=\"quickchart('df-040aa779-4ea8-4c05-9006-c8bad3cd93e4')\"\n",
              "            title=\"Suggest charts\"\n",
              "            style=\"display:none;\">\n",
              "\n",
              "<svg xmlns=\"http://www.w3.org/2000/svg\" height=\"24px\"viewBox=\"0 0 24 24\"\n",
              "     width=\"24px\">\n",
              "    <g>\n",
              "        <path d=\"M19 3H5c-1.1 0-2 .9-2 2v14c0 1.1.9 2 2 2h14c1.1 0 2-.9 2-2V5c0-1.1-.9-2-2-2zM9 17H7v-7h2v7zm4 0h-2V7h2v10zm4 0h-2v-4h2v4z\"/>\n",
              "    </g>\n",
              "</svg>\n",
              "  </button>\n",
              "\n",
              "<style>\n",
              "  .colab-df-quickchart {\n",
              "      --bg-color: #E8F0FE;\n",
              "      --fill-color: #1967D2;\n",
              "      --hover-bg-color: #E2EBFA;\n",
              "      --hover-fill-color: #174EA6;\n",
              "      --disabled-fill-color: #AAA;\n",
              "      --disabled-bg-color: #DDD;\n",
              "  }\n",
              "\n",
              "  [theme=dark] .colab-df-quickchart {\n",
              "      --bg-color: #3B4455;\n",
              "      --fill-color: #D2E3FC;\n",
              "      --hover-bg-color: #434B5C;\n",
              "      --hover-fill-color: #FFFFFF;\n",
              "      --disabled-bg-color: #3B4455;\n",
              "      --disabled-fill-color: #666;\n",
              "  }\n",
              "\n",
              "  .colab-df-quickchart {\n",
              "    background-color: var(--bg-color);\n",
              "    border: none;\n",
              "    border-radius: 50%;\n",
              "    cursor: pointer;\n",
              "    display: none;\n",
              "    fill: var(--fill-color);\n",
              "    height: 32px;\n",
              "    padding: 0;\n",
              "    width: 32px;\n",
              "  }\n",
              "\n",
              "  .colab-df-quickchart:hover {\n",
              "    background-color: var(--hover-bg-color);\n",
              "    box-shadow: 0 1px 2px rgba(60, 64, 67, 0.3), 0 1px 3px 1px rgba(60, 64, 67, 0.15);\n",
              "    fill: var(--button-hover-fill-color);\n",
              "  }\n",
              "\n",
              "  .colab-df-quickchart-complete:disabled,\n",
              "  .colab-df-quickchart-complete:disabled:hover {\n",
              "    background-color: var(--disabled-bg-color);\n",
              "    fill: var(--disabled-fill-color);\n",
              "    box-shadow: none;\n",
              "  }\n",
              "\n",
              "  .colab-df-spinner {\n",
              "    border: 2px solid var(--fill-color);\n",
              "    border-color: transparent;\n",
              "    border-bottom-color: var(--fill-color);\n",
              "    animation:\n",
              "      spin 1s steps(1) infinite;\n",
              "  }\n",
              "\n",
              "  @keyframes spin {\n",
              "    0% {\n",
              "      border-color: transparent;\n",
              "      border-bottom-color: var(--fill-color);\n",
              "      border-left-color: var(--fill-color);\n",
              "    }\n",
              "    20% {\n",
              "      border-color: transparent;\n",
              "      border-left-color: var(--fill-color);\n",
              "      border-top-color: var(--fill-color);\n",
              "    }\n",
              "    30% {\n",
              "      border-color: transparent;\n",
              "      border-left-color: var(--fill-color);\n",
              "      border-top-color: var(--fill-color);\n",
              "      border-right-color: var(--fill-color);\n",
              "    }\n",
              "    40% {\n",
              "      border-color: transparent;\n",
              "      border-right-color: var(--fill-color);\n",
              "      border-top-color: var(--fill-color);\n",
              "    }\n",
              "    60% {\n",
              "      border-color: transparent;\n",
              "      border-right-color: var(--fill-color);\n",
              "    }\n",
              "    80% {\n",
              "      border-color: transparent;\n",
              "      border-right-color: var(--fill-color);\n",
              "      border-bottom-color: var(--fill-color);\n",
              "    }\n",
              "    90% {\n",
              "      border-color: transparent;\n",
              "      border-bottom-color: var(--fill-color);\n",
              "    }\n",
              "  }\n",
              "</style>\n",
              "\n",
              "  <script>\n",
              "    async function quickchart(key) {\n",
              "      const quickchartButtonEl =\n",
              "        document.querySelector('#' + key + ' button');\n",
              "      quickchartButtonEl.disabled = true;  // To prevent multiple clicks.\n",
              "      quickchartButtonEl.classList.add('colab-df-spinner');\n",
              "      try {\n",
              "        const charts = await google.colab.kernel.invokeFunction(\n",
              "            'suggestCharts', [key], {});\n",
              "      } catch (error) {\n",
              "        console.error('Error during call to suggestCharts:', error);\n",
              "      }\n",
              "      quickchartButtonEl.classList.remove('colab-df-spinner');\n",
              "      quickchartButtonEl.classList.add('colab-df-quickchart-complete');\n",
              "    }\n",
              "    (() => {\n",
              "      let quickchartButtonEl =\n",
              "        document.querySelector('#df-040aa779-4ea8-4c05-9006-c8bad3cd93e4 button');\n",
              "      quickchartButtonEl.style.display =\n",
              "        google.colab.kernel.accessAllowed ? 'block' : 'none';\n",
              "    })();\n",
              "  </script>\n",
              "</div>\n",
              "    </div>\n",
              "  </div>\n"
            ]
          },
          "metadata": {},
          "execution_count": 14
        }
      ]
    },
    {
      "cell_type": "code",
      "source": [
        "corresponding_labels = [folder[i] for i in predictions]\n",
        "\n",
        "print(corresponding_labels)"
      ],
      "metadata": {
        "colab": {
          "base_uri": "https://localhost:8080/"
        },
        "id": "r8-pq8QVHED8",
        "outputId": "0b92e378-9fa3-45c3-a11c-32397c36d569"
      },
      "execution_count": 15,
      "outputs": [
        {
          "output_type": "stream",
          "name": "stdout",
          "text": [
            "['い', 'さ', 'そ']\n"
          ]
        }
      ]
    },
    {
      "cell_type": "code",
      "source": [
        "#毎回写真を消す\n",
        "file_list = glob.glob(\"block_ROI_img*png\")\n",
        "for file in file_list:\n",
        "  os.remove(file)"
      ],
      "metadata": {
        "id": "iTaZCK73qXWC"
      },
      "execution_count": 16,
      "outputs": []
    },
    {
      "cell_type": "code",
      "source": [],
      "metadata": {
        "id": "vJik2T3jqXXr"
      },
      "execution_count": 77,
      "outputs": []
    },
    {
      "cell_type": "code",
      "source": [],
      "metadata": {
        "id": "U9ca2mwIqXZB"
      },
      "execution_count": 77,
      "outputs": []
    },
    {
      "cell_type": "code",
      "source": [],
      "metadata": {
        "id": "vSdS-yxQqXbV"
      },
      "execution_count": 46,
      "outputs": []
    },
    {
      "cell_type": "code",
      "source": [],
      "metadata": {
        "id": "JrtvAg0nqXdc"
      },
      "execution_count": 46,
      "outputs": []
    }
  ]
}